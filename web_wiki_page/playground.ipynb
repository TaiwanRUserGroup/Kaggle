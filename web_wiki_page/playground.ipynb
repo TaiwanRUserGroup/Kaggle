{
 "cells": [
  {
   "cell_type": "markdown",
   "metadata": {},
   "source": [
    "https://www.kaggle.com/c/web-traffic-time-series-forecasting/\n",
    "\n",
    "\n",
    "\n",
    "https://github.com/floydwch/kaggle-cli\n",
    "\n",
    "https://chrisalbon.com/python/pandas_time_series_basics.html"
   ]
  },
  {
   "cell_type": "code",
   "execution_count": 1,
   "metadata": {
    "collapsed": true
   },
   "outputs": [],
   "source": [
    "import pandas as pd\n",
    "import numpy as np"
   ]
  },
  {
   "cell_type": "code",
   "execution_count": 2,
   "metadata": {
    "collapsed": true
   },
   "outputs": [],
   "source": [
    "%matplotlib inline\n",
    "import matplotlib.pyplot as plt"
   ]
  },
  {
   "cell_type": "code",
   "execution_count": 3,
   "metadata": {
    "collapsed": true
   },
   "outputs": [],
   "source": [
    "# read data\n",
    "train_data = pd.read_csv(\"./train_1.csv\", engine='c')"
   ]
  },
  {
   "cell_type": "code",
   "execution_count": 4,
   "metadata": {},
   "outputs": [
    {
     "data": {
      "text/plain": [
       "Index(['Page', '2015-07-01', '2015-07-02', '2015-07-03', '2015-07-04',\n",
       "       '2015-07-05', '2015-07-06', '2015-07-07', '2015-07-08', '2015-07-09',\n",
       "       ...\n",
       "       '2016-12-22', '2016-12-23', '2016-12-24', '2016-12-25', '2016-12-26',\n",
       "       '2016-12-27', '2016-12-28', '2016-12-29', '2016-12-30', '2016-12-31'],\n",
       "      dtype='object', length=551)"
      ]
     },
     "execution_count": 4,
     "metadata": {},
     "output_type": "execute_result"
    }
   ],
   "source": [
    "train_data.columns"
   ]
  },
  {
   "cell_type": "code",
   "execution_count": 5,
   "metadata": {},
   "outputs": [
    {
     "data": {
      "text/plain": [
       "Index(['2015-07-01', '2015-07-02', '2015-07-03', '2015-07-04', '2015-07-05',\n",
       "       '2015-07-06', '2015-07-07', '2015-07-08', '2015-07-09', '2015-07-10',\n",
       "       ...\n",
       "       '2016-12-22', '2016-12-23', '2016-12-24', '2016-12-25', '2016-12-26',\n",
       "       '2016-12-27', '2016-12-28', '2016-12-29', '2016-12-30', '2016-12-31'],\n",
       "      dtype='object', length=550)"
      ]
     },
     "execution_count": 5,
     "metadata": {},
     "output_type": "execute_result"
    }
   ],
   "source": [
    "train_data.columns[1:]"
   ]
  },
  {
   "cell_type": "code",
   "execution_count": 6,
   "metadata": {},
   "outputs": [
    {
     "data": {
      "text/plain": [
       "(145063, 551)"
      ]
     },
     "execution_count": 6,
     "metadata": {},
     "output_type": "execute_result"
    }
   ],
   "source": [
    "train_data.shape"
   ]
  },
  {
   "cell_type": "code",
   "execution_count": 7,
   "metadata": {},
   "outputs": [
    {
     "data": {
      "text/html": [
       "<div>\n",
       "<style>\n",
       "    .dataframe thead tr:only-child th {\n",
       "        text-align: right;\n",
       "    }\n",
       "\n",
       "    .dataframe thead th {\n",
       "        text-align: left;\n",
       "    }\n",
       "\n",
       "    .dataframe tbody tr th {\n",
       "        vertical-align: top;\n",
       "    }\n",
       "</style>\n",
       "<table border=\"1\" class=\"dataframe\">\n",
       "  <thead>\n",
       "    <tr style=\"text-align: right;\">\n",
       "      <th></th>\n",
       "      <th>Page</th>\n",
       "      <th>2015-07-01</th>\n",
       "      <th>2015-07-02</th>\n",
       "      <th>2015-07-03</th>\n",
       "      <th>2015-07-04</th>\n",
       "      <th>2015-07-05</th>\n",
       "      <th>2015-07-06</th>\n",
       "      <th>2015-07-07</th>\n",
       "      <th>2015-07-08</th>\n",
       "      <th>2015-07-09</th>\n",
       "      <th>...</th>\n",
       "      <th>2016-12-22</th>\n",
       "      <th>2016-12-23</th>\n",
       "      <th>2016-12-24</th>\n",
       "      <th>2016-12-25</th>\n",
       "      <th>2016-12-26</th>\n",
       "      <th>2016-12-27</th>\n",
       "      <th>2016-12-28</th>\n",
       "      <th>2016-12-29</th>\n",
       "      <th>2016-12-30</th>\n",
       "      <th>2016-12-31</th>\n",
       "    </tr>\n",
       "  </thead>\n",
       "  <tbody>\n",
       "    <tr>\n",
       "      <th>0</th>\n",
       "      <td>2NE1_zh.wikipedia.org_all-access_spider</td>\n",
       "      <td>18.0</td>\n",
       "      <td>11.0</td>\n",
       "      <td>5.0</td>\n",
       "      <td>13.0</td>\n",
       "      <td>14.0</td>\n",
       "      <td>9.0</td>\n",
       "      <td>9.0</td>\n",
       "      <td>22.0</td>\n",
       "      <td>26.0</td>\n",
       "      <td>...</td>\n",
       "      <td>32.0</td>\n",
       "      <td>63.0</td>\n",
       "      <td>15.0</td>\n",
       "      <td>26.0</td>\n",
       "      <td>14.0</td>\n",
       "      <td>20.0</td>\n",
       "      <td>22.0</td>\n",
       "      <td>19.0</td>\n",
       "      <td>18.0</td>\n",
       "      <td>20.0</td>\n",
       "    </tr>\n",
       "    <tr>\n",
       "      <th>1</th>\n",
       "      <td>2PM_zh.wikipedia.org_all-access_spider</td>\n",
       "      <td>11.0</td>\n",
       "      <td>14.0</td>\n",
       "      <td>15.0</td>\n",
       "      <td>18.0</td>\n",
       "      <td>11.0</td>\n",
       "      <td>13.0</td>\n",
       "      <td>22.0</td>\n",
       "      <td>11.0</td>\n",
       "      <td>10.0</td>\n",
       "      <td>...</td>\n",
       "      <td>17.0</td>\n",
       "      <td>42.0</td>\n",
       "      <td>28.0</td>\n",
       "      <td>15.0</td>\n",
       "      <td>9.0</td>\n",
       "      <td>30.0</td>\n",
       "      <td>52.0</td>\n",
       "      <td>45.0</td>\n",
       "      <td>26.0</td>\n",
       "      <td>20.0</td>\n",
       "    </tr>\n",
       "    <tr>\n",
       "      <th>2</th>\n",
       "      <td>3C_zh.wikipedia.org_all-access_spider</td>\n",
       "      <td>1.0</td>\n",
       "      <td>0.0</td>\n",
       "      <td>1.0</td>\n",
       "      <td>1.0</td>\n",
       "      <td>0.0</td>\n",
       "      <td>4.0</td>\n",
       "      <td>0.0</td>\n",
       "      <td>3.0</td>\n",
       "      <td>4.0</td>\n",
       "      <td>...</td>\n",
       "      <td>3.0</td>\n",
       "      <td>1.0</td>\n",
       "      <td>1.0</td>\n",
       "      <td>7.0</td>\n",
       "      <td>4.0</td>\n",
       "      <td>4.0</td>\n",
       "      <td>6.0</td>\n",
       "      <td>3.0</td>\n",
       "      <td>4.0</td>\n",
       "      <td>17.0</td>\n",
       "    </tr>\n",
       "    <tr>\n",
       "      <th>3</th>\n",
       "      <td>4minute_zh.wikipedia.org_all-access_spider</td>\n",
       "      <td>35.0</td>\n",
       "      <td>13.0</td>\n",
       "      <td>10.0</td>\n",
       "      <td>94.0</td>\n",
       "      <td>4.0</td>\n",
       "      <td>26.0</td>\n",
       "      <td>14.0</td>\n",
       "      <td>9.0</td>\n",
       "      <td>11.0</td>\n",
       "      <td>...</td>\n",
       "      <td>32.0</td>\n",
       "      <td>10.0</td>\n",
       "      <td>26.0</td>\n",
       "      <td>27.0</td>\n",
       "      <td>16.0</td>\n",
       "      <td>11.0</td>\n",
       "      <td>17.0</td>\n",
       "      <td>19.0</td>\n",
       "      <td>10.0</td>\n",
       "      <td>11.0</td>\n",
       "    </tr>\n",
       "    <tr>\n",
       "      <th>4</th>\n",
       "      <td>52_Hz_I_Love_You_zh.wikipedia.org_all-access_s...</td>\n",
       "      <td>NaN</td>\n",
       "      <td>NaN</td>\n",
       "      <td>NaN</td>\n",
       "      <td>NaN</td>\n",
       "      <td>NaN</td>\n",
       "      <td>NaN</td>\n",
       "      <td>NaN</td>\n",
       "      <td>NaN</td>\n",
       "      <td>NaN</td>\n",
       "      <td>...</td>\n",
       "      <td>48.0</td>\n",
       "      <td>9.0</td>\n",
       "      <td>25.0</td>\n",
       "      <td>13.0</td>\n",
       "      <td>3.0</td>\n",
       "      <td>11.0</td>\n",
       "      <td>27.0</td>\n",
       "      <td>13.0</td>\n",
       "      <td>36.0</td>\n",
       "      <td>10.0</td>\n",
       "    </tr>\n",
       "  </tbody>\n",
       "</table>\n",
       "<p>5 rows × 551 columns</p>\n",
       "</div>"
      ],
      "text/plain": [
       "                                                Page  2015-07-01  2015-07-02  \\\n",
       "0            2NE1_zh.wikipedia.org_all-access_spider        18.0        11.0   \n",
       "1             2PM_zh.wikipedia.org_all-access_spider        11.0        14.0   \n",
       "2              3C_zh.wikipedia.org_all-access_spider         1.0         0.0   \n",
       "3         4minute_zh.wikipedia.org_all-access_spider        35.0        13.0   \n",
       "4  52_Hz_I_Love_You_zh.wikipedia.org_all-access_s...         NaN         NaN   \n",
       "\n",
       "   2015-07-03  2015-07-04  2015-07-05  2015-07-06  2015-07-07  2015-07-08  \\\n",
       "0         5.0        13.0        14.0         9.0         9.0        22.0   \n",
       "1        15.0        18.0        11.0        13.0        22.0        11.0   \n",
       "2         1.0         1.0         0.0         4.0         0.0         3.0   \n",
       "3        10.0        94.0         4.0        26.0        14.0         9.0   \n",
       "4         NaN         NaN         NaN         NaN         NaN         NaN   \n",
       "\n",
       "   2015-07-09     ...      2016-12-22  2016-12-23  2016-12-24  2016-12-25  \\\n",
       "0        26.0     ...            32.0        63.0        15.0        26.0   \n",
       "1        10.0     ...            17.0        42.0        28.0        15.0   \n",
       "2         4.0     ...             3.0         1.0         1.0         7.0   \n",
       "3        11.0     ...            32.0        10.0        26.0        27.0   \n",
       "4         NaN     ...            48.0         9.0        25.0        13.0   \n",
       "\n",
       "   2016-12-26  2016-12-27  2016-12-28  2016-12-29  2016-12-30  2016-12-31  \n",
       "0        14.0        20.0        22.0        19.0        18.0        20.0  \n",
       "1         9.0        30.0        52.0        45.0        26.0        20.0  \n",
       "2         4.0         4.0         6.0         3.0         4.0        17.0  \n",
       "3        16.0        11.0        17.0        19.0        10.0        11.0  \n",
       "4         3.0        11.0        27.0        13.0        36.0        10.0  \n",
       "\n",
       "[5 rows x 551 columns]"
      ]
     },
     "execution_count": 7,
     "metadata": {},
     "output_type": "execute_result"
    }
   ],
   "source": [
    "train_data.head()"
   ]
  },
  {
   "cell_type": "code",
   "execution_count": 8,
   "metadata": {
    "collapsed": true
   },
   "outputs": [],
   "source": [
    "train_data_clean = train_data.fillna(method=\"pad\")"
   ]
  },
  {
   "cell_type": "code",
   "execution_count": 9,
   "metadata": {},
   "outputs": [
    {
     "data": {
      "text/html": [
       "<div>\n",
       "<style>\n",
       "    .dataframe thead tr:only-child th {\n",
       "        text-align: right;\n",
       "    }\n",
       "\n",
       "    .dataframe thead th {\n",
       "        text-align: left;\n",
       "    }\n",
       "\n",
       "    .dataframe tbody tr th {\n",
       "        vertical-align: top;\n",
       "    }\n",
       "</style>\n",
       "<table border=\"1\" class=\"dataframe\">\n",
       "  <thead>\n",
       "    <tr style=\"text-align: right;\">\n",
       "      <th></th>\n",
       "      <th>Page</th>\n",
       "      <th>2015-07-01</th>\n",
       "      <th>2015-07-02</th>\n",
       "      <th>2015-07-03</th>\n",
       "      <th>2015-07-04</th>\n",
       "      <th>2015-07-05</th>\n",
       "      <th>2015-07-06</th>\n",
       "      <th>2015-07-07</th>\n",
       "      <th>2015-07-08</th>\n",
       "      <th>2015-07-09</th>\n",
       "      <th>...</th>\n",
       "      <th>2016-12-22</th>\n",
       "      <th>2016-12-23</th>\n",
       "      <th>2016-12-24</th>\n",
       "      <th>2016-12-25</th>\n",
       "      <th>2016-12-26</th>\n",
       "      <th>2016-12-27</th>\n",
       "      <th>2016-12-28</th>\n",
       "      <th>2016-12-29</th>\n",
       "      <th>2016-12-30</th>\n",
       "      <th>2016-12-31</th>\n",
       "    </tr>\n",
       "  </thead>\n",
       "  <tbody>\n",
       "    <tr>\n",
       "      <th>0</th>\n",
       "      <td>2NE1_zh.wikipedia.org_all-access_spider</td>\n",
       "      <td>18.0</td>\n",
       "      <td>11.0</td>\n",
       "      <td>5.0</td>\n",
       "      <td>13.0</td>\n",
       "      <td>14.0</td>\n",
       "      <td>9.0</td>\n",
       "      <td>9.0</td>\n",
       "      <td>22.0</td>\n",
       "      <td>26.0</td>\n",
       "      <td>...</td>\n",
       "      <td>32.0</td>\n",
       "      <td>63.0</td>\n",
       "      <td>15.0</td>\n",
       "      <td>26.0</td>\n",
       "      <td>14.0</td>\n",
       "      <td>20.0</td>\n",
       "      <td>22.0</td>\n",
       "      <td>19.0</td>\n",
       "      <td>18.0</td>\n",
       "      <td>20.0</td>\n",
       "    </tr>\n",
       "    <tr>\n",
       "      <th>1</th>\n",
       "      <td>2PM_zh.wikipedia.org_all-access_spider</td>\n",
       "      <td>11.0</td>\n",
       "      <td>14.0</td>\n",
       "      <td>15.0</td>\n",
       "      <td>18.0</td>\n",
       "      <td>11.0</td>\n",
       "      <td>13.0</td>\n",
       "      <td>22.0</td>\n",
       "      <td>11.0</td>\n",
       "      <td>10.0</td>\n",
       "      <td>...</td>\n",
       "      <td>17.0</td>\n",
       "      <td>42.0</td>\n",
       "      <td>28.0</td>\n",
       "      <td>15.0</td>\n",
       "      <td>9.0</td>\n",
       "      <td>30.0</td>\n",
       "      <td>52.0</td>\n",
       "      <td>45.0</td>\n",
       "      <td>26.0</td>\n",
       "      <td>20.0</td>\n",
       "    </tr>\n",
       "    <tr>\n",
       "      <th>2</th>\n",
       "      <td>3C_zh.wikipedia.org_all-access_spider</td>\n",
       "      <td>1.0</td>\n",
       "      <td>0.0</td>\n",
       "      <td>1.0</td>\n",
       "      <td>1.0</td>\n",
       "      <td>0.0</td>\n",
       "      <td>4.0</td>\n",
       "      <td>0.0</td>\n",
       "      <td>3.0</td>\n",
       "      <td>4.0</td>\n",
       "      <td>...</td>\n",
       "      <td>3.0</td>\n",
       "      <td>1.0</td>\n",
       "      <td>1.0</td>\n",
       "      <td>7.0</td>\n",
       "      <td>4.0</td>\n",
       "      <td>4.0</td>\n",
       "      <td>6.0</td>\n",
       "      <td>3.0</td>\n",
       "      <td>4.0</td>\n",
       "      <td>17.0</td>\n",
       "    </tr>\n",
       "    <tr>\n",
       "      <th>3</th>\n",
       "      <td>4minute_zh.wikipedia.org_all-access_spider</td>\n",
       "      <td>35.0</td>\n",
       "      <td>13.0</td>\n",
       "      <td>10.0</td>\n",
       "      <td>94.0</td>\n",
       "      <td>4.0</td>\n",
       "      <td>26.0</td>\n",
       "      <td>14.0</td>\n",
       "      <td>9.0</td>\n",
       "      <td>11.0</td>\n",
       "      <td>...</td>\n",
       "      <td>32.0</td>\n",
       "      <td>10.0</td>\n",
       "      <td>26.0</td>\n",
       "      <td>27.0</td>\n",
       "      <td>16.0</td>\n",
       "      <td>11.0</td>\n",
       "      <td>17.0</td>\n",
       "      <td>19.0</td>\n",
       "      <td>10.0</td>\n",
       "      <td>11.0</td>\n",
       "    </tr>\n",
       "    <tr>\n",
       "      <th>4</th>\n",
       "      <td>52_Hz_I_Love_You_zh.wikipedia.org_all-access_s...</td>\n",
       "      <td>35.0</td>\n",
       "      <td>13.0</td>\n",
       "      <td>10.0</td>\n",
       "      <td>94.0</td>\n",
       "      <td>4.0</td>\n",
       "      <td>26.0</td>\n",
       "      <td>14.0</td>\n",
       "      <td>9.0</td>\n",
       "      <td>11.0</td>\n",
       "      <td>...</td>\n",
       "      <td>48.0</td>\n",
       "      <td>9.0</td>\n",
       "      <td>25.0</td>\n",
       "      <td>13.0</td>\n",
       "      <td>3.0</td>\n",
       "      <td>11.0</td>\n",
       "      <td>27.0</td>\n",
       "      <td>13.0</td>\n",
       "      <td>36.0</td>\n",
       "      <td>10.0</td>\n",
       "    </tr>\n",
       "    <tr>\n",
       "      <th>5</th>\n",
       "      <td>5566_zh.wikipedia.org_all-access_spider</td>\n",
       "      <td>12.0</td>\n",
       "      <td>7.0</td>\n",
       "      <td>4.0</td>\n",
       "      <td>5.0</td>\n",
       "      <td>20.0</td>\n",
       "      <td>8.0</td>\n",
       "      <td>5.0</td>\n",
       "      <td>17.0</td>\n",
       "      <td>24.0</td>\n",
       "      <td>...</td>\n",
       "      <td>16.0</td>\n",
       "      <td>27.0</td>\n",
       "      <td>8.0</td>\n",
       "      <td>17.0</td>\n",
       "      <td>32.0</td>\n",
       "      <td>19.0</td>\n",
       "      <td>23.0</td>\n",
       "      <td>17.0</td>\n",
       "      <td>17.0</td>\n",
       "      <td>50.0</td>\n",
       "    </tr>\n",
       "    <tr>\n",
       "      <th>6</th>\n",
       "      <td>91Days_zh.wikipedia.org_all-access_spider</td>\n",
       "      <td>12.0</td>\n",
       "      <td>7.0</td>\n",
       "      <td>4.0</td>\n",
       "      <td>5.0</td>\n",
       "      <td>20.0</td>\n",
       "      <td>8.0</td>\n",
       "      <td>5.0</td>\n",
       "      <td>17.0</td>\n",
       "      <td>24.0</td>\n",
       "      <td>...</td>\n",
       "      <td>2.0</td>\n",
       "      <td>7.0</td>\n",
       "      <td>33.0</td>\n",
       "      <td>8.0</td>\n",
       "      <td>11.0</td>\n",
       "      <td>4.0</td>\n",
       "      <td>15.0</td>\n",
       "      <td>6.0</td>\n",
       "      <td>8.0</td>\n",
       "      <td>6.0</td>\n",
       "    </tr>\n",
       "    <tr>\n",
       "      <th>7</th>\n",
       "      <td>A'N'D_zh.wikipedia.org_all-access_spider</td>\n",
       "      <td>118.0</td>\n",
       "      <td>26.0</td>\n",
       "      <td>30.0</td>\n",
       "      <td>24.0</td>\n",
       "      <td>29.0</td>\n",
       "      <td>127.0</td>\n",
       "      <td>53.0</td>\n",
       "      <td>37.0</td>\n",
       "      <td>20.0</td>\n",
       "      <td>...</td>\n",
       "      <td>64.0</td>\n",
       "      <td>35.0</td>\n",
       "      <td>35.0</td>\n",
       "      <td>28.0</td>\n",
       "      <td>20.0</td>\n",
       "      <td>23.0</td>\n",
       "      <td>32.0</td>\n",
       "      <td>39.0</td>\n",
       "      <td>32.0</td>\n",
       "      <td>17.0</td>\n",
       "    </tr>\n",
       "    <tr>\n",
       "      <th>8</th>\n",
       "      <td>AKB48_zh.wikipedia.org_all-access_spider</td>\n",
       "      <td>5.0</td>\n",
       "      <td>23.0</td>\n",
       "      <td>14.0</td>\n",
       "      <td>12.0</td>\n",
       "      <td>9.0</td>\n",
       "      <td>9.0</td>\n",
       "      <td>35.0</td>\n",
       "      <td>15.0</td>\n",
       "      <td>14.0</td>\n",
       "      <td>...</td>\n",
       "      <td>34.0</td>\n",
       "      <td>105.0</td>\n",
       "      <td>72.0</td>\n",
       "      <td>36.0</td>\n",
       "      <td>33.0</td>\n",
       "      <td>30.0</td>\n",
       "      <td>36.0</td>\n",
       "      <td>38.0</td>\n",
       "      <td>31.0</td>\n",
       "      <td>97.0</td>\n",
       "    </tr>\n",
       "    <tr>\n",
       "      <th>9</th>\n",
       "      <td>ASCII_zh.wikipedia.org_all-access_spider</td>\n",
       "      <td>6.0</td>\n",
       "      <td>3.0</td>\n",
       "      <td>5.0</td>\n",
       "      <td>12.0</td>\n",
       "      <td>6.0</td>\n",
       "      <td>5.0</td>\n",
       "      <td>4.0</td>\n",
       "      <td>13.0</td>\n",
       "      <td>9.0</td>\n",
       "      <td>...</td>\n",
       "      <td>25.0</td>\n",
       "      <td>17.0</td>\n",
       "      <td>22.0</td>\n",
       "      <td>29.0</td>\n",
       "      <td>30.0</td>\n",
       "      <td>29.0</td>\n",
       "      <td>35.0</td>\n",
       "      <td>44.0</td>\n",
       "      <td>26.0</td>\n",
       "      <td>41.0</td>\n",
       "    </tr>\n",
       "  </tbody>\n",
       "</table>\n",
       "<p>10 rows × 551 columns</p>\n",
       "</div>"
      ],
      "text/plain": [
       "                                                Page  2015-07-01  2015-07-02  \\\n",
       "0            2NE1_zh.wikipedia.org_all-access_spider        18.0        11.0   \n",
       "1             2PM_zh.wikipedia.org_all-access_spider        11.0        14.0   \n",
       "2              3C_zh.wikipedia.org_all-access_spider         1.0         0.0   \n",
       "3         4minute_zh.wikipedia.org_all-access_spider        35.0        13.0   \n",
       "4  52_Hz_I_Love_You_zh.wikipedia.org_all-access_s...        35.0        13.0   \n",
       "5            5566_zh.wikipedia.org_all-access_spider        12.0         7.0   \n",
       "6          91Days_zh.wikipedia.org_all-access_spider        12.0         7.0   \n",
       "7           A'N'D_zh.wikipedia.org_all-access_spider       118.0        26.0   \n",
       "8           AKB48_zh.wikipedia.org_all-access_spider         5.0        23.0   \n",
       "9           ASCII_zh.wikipedia.org_all-access_spider         6.0         3.0   \n",
       "\n",
       "   2015-07-03  2015-07-04  2015-07-05  2015-07-06  2015-07-07  2015-07-08  \\\n",
       "0         5.0        13.0        14.0         9.0         9.0        22.0   \n",
       "1        15.0        18.0        11.0        13.0        22.0        11.0   \n",
       "2         1.0         1.0         0.0         4.0         0.0         3.0   \n",
       "3        10.0        94.0         4.0        26.0        14.0         9.0   \n",
       "4        10.0        94.0         4.0        26.0        14.0         9.0   \n",
       "5         4.0         5.0        20.0         8.0         5.0        17.0   \n",
       "6         4.0         5.0        20.0         8.0         5.0        17.0   \n",
       "7        30.0        24.0        29.0       127.0        53.0        37.0   \n",
       "8        14.0        12.0         9.0         9.0        35.0        15.0   \n",
       "9         5.0        12.0         6.0         5.0         4.0        13.0   \n",
       "\n",
       "   2015-07-09     ...      2016-12-22  2016-12-23  2016-12-24  2016-12-25  \\\n",
       "0        26.0     ...            32.0        63.0        15.0        26.0   \n",
       "1        10.0     ...            17.0        42.0        28.0        15.0   \n",
       "2         4.0     ...             3.0         1.0         1.0         7.0   \n",
       "3        11.0     ...            32.0        10.0        26.0        27.0   \n",
       "4        11.0     ...            48.0         9.0        25.0        13.0   \n",
       "5        24.0     ...            16.0        27.0         8.0        17.0   \n",
       "6        24.0     ...             2.0         7.0        33.0         8.0   \n",
       "7        20.0     ...            64.0        35.0        35.0        28.0   \n",
       "8        14.0     ...            34.0       105.0        72.0        36.0   \n",
       "9         9.0     ...            25.0        17.0        22.0        29.0   \n",
       "\n",
       "   2016-12-26  2016-12-27  2016-12-28  2016-12-29  2016-12-30  2016-12-31  \n",
       "0        14.0        20.0        22.0        19.0        18.0        20.0  \n",
       "1         9.0        30.0        52.0        45.0        26.0        20.0  \n",
       "2         4.0         4.0         6.0         3.0         4.0        17.0  \n",
       "3        16.0        11.0        17.0        19.0        10.0        11.0  \n",
       "4         3.0        11.0        27.0        13.0        36.0        10.0  \n",
       "5        32.0        19.0        23.0        17.0        17.0        50.0  \n",
       "6        11.0         4.0        15.0         6.0         8.0         6.0  \n",
       "7        20.0        23.0        32.0        39.0        32.0        17.0  \n",
       "8        33.0        30.0        36.0        38.0        31.0        97.0  \n",
       "9        30.0        29.0        35.0        44.0        26.0        41.0  \n",
       "\n",
       "[10 rows x 551 columns]"
      ]
     },
     "execution_count": 9,
     "metadata": {},
     "output_type": "execute_result"
    }
   ],
   "source": [
    "train_data_clean.head(10)"
   ]
  },
  {
   "cell_type": "code",
   "execution_count": 10,
   "metadata": {},
   "outputs": [
    {
     "data": {
      "text/plain": [
       "<matplotlib.axes._subplots.AxesSubplot at 0x1076c77f0>"
      ]
     },
     "execution_count": 10,
     "metadata": {},
     "output_type": "execute_result"
    },
    {
     "data": {
      "image/png": "[encoded data removed]",
      "text/plain": [
       "<matplotlib.figure.Figure at 0x101249400>"
      ]
     },
     "metadata": {},
     "output_type": "display_data"
    }
   ],
   "source": [
    "train_data_clean.iloc[0, 1:].plot()\n",
    "train_data_clean.iloc[1, 1:].plot()\n",
    "train_data_clean.iloc[2, 1:].plot()"
   ]
  },
  {
   "cell_type": "code",
   "execution_count": 11,
   "metadata": {
    "collapsed": true
   },
   "outputs": [],
   "source": [
    "keys = pd.read_csv(\"./key_1.csv\", engine='c')"
   ]
  },
  {
   "cell_type": "code",
   "execution_count": 12,
   "metadata": {},
   "outputs": [
    {
     "data": {
      "text/plain": [
       "(8703780, 2)"
      ]
     },
     "execution_count": 12,
     "metadata": {},
     "output_type": "execute_result"
    }
   ],
   "source": [
    "keys.shape"
   ]
  },
  {
   "cell_type": "code",
   "execution_count": 13,
   "metadata": {},
   "outputs": [
    {
     "data": {
      "text/plain": [
       "8703780"
      ]
     },
     "execution_count": 13,
     "metadata": {},
     "output_type": "execute_result"
    }
   ],
   "source": [
    "145063*60 # predict future 3 months"
   ]
  },
  {
   "cell_type": "code",
   "execution_count": 14,
   "metadata": {},
   "outputs": [
    {
     "data": {
      "text/html": [
       "<div>\n",
       "<style>\n",
       "    .dataframe thead tr:only-child th {\n",
       "        text-align: right;\n",
       "    }\n",
       "\n",
       "    .dataframe thead th {\n",
       "        text-align: left;\n",
       "    }\n",
       "\n",
       "    .dataframe tbody tr th {\n",
       "        vertical-align: top;\n",
       "    }\n",
       "</style>\n",
       "<table border=\"1\" class=\"dataframe\">\n",
       "  <thead>\n",
       "    <tr style=\"text-align: right;\">\n",
       "      <th></th>\n",
       "      <th>Page</th>\n",
       "      <th>Id</th>\n",
       "    </tr>\n",
       "  </thead>\n",
       "  <tbody>\n",
       "    <tr>\n",
       "      <th>0</th>\n",
       "      <td>!vote_en.wikipedia.org_all-access_all-agents_2...</td>\n",
       "      <td>bf4edcf969af</td>\n",
       "    </tr>\n",
       "    <tr>\n",
       "      <th>1</th>\n",
       "      <td>!vote_en.wikipedia.org_all-access_all-agents_2...</td>\n",
       "      <td>929ed2bf52b9</td>\n",
       "    </tr>\n",
       "    <tr>\n",
       "      <th>2</th>\n",
       "      <td>!vote_en.wikipedia.org_all-access_all-agents_2...</td>\n",
       "      <td>ff29d0f51d5c</td>\n",
       "    </tr>\n",
       "    <tr>\n",
       "      <th>3</th>\n",
       "      <td>!vote_en.wikipedia.org_all-access_all-agents_2...</td>\n",
       "      <td>e98873359be6</td>\n",
       "    </tr>\n",
       "    <tr>\n",
       "      <th>4</th>\n",
       "      <td>!vote_en.wikipedia.org_all-access_all-agents_2...</td>\n",
       "      <td>fa012434263a</td>\n",
       "    </tr>\n",
       "  </tbody>\n",
       "</table>\n",
       "</div>"
      ],
      "text/plain": [
       "                                                Page            Id\n",
       "0  !vote_en.wikipedia.org_all-access_all-agents_2...  bf4edcf969af\n",
       "1  !vote_en.wikipedia.org_all-access_all-agents_2...  929ed2bf52b9\n",
       "2  !vote_en.wikipedia.org_all-access_all-agents_2...  ff29d0f51d5c\n",
       "3  !vote_en.wikipedia.org_all-access_all-agents_2...  e98873359be6\n",
       "4  !vote_en.wikipedia.org_all-access_all-agents_2...  fa012434263a"
      ]
     },
     "execution_count": 14,
     "metadata": {},
     "output_type": "execute_result"
    }
   ],
   "source": [
    "keys.head()"
   ]
  },
  {
   "cell_type": "code",
   "execution_count": 15,
   "metadata": {},
   "outputs": [
    {
     "name": "stdout",
     "output_type": "stream",
     "text": [
      "!vote_en.wikipedia.org_all-access_all-agents_2017-01-01\n",
      "!vote_en.wikipedia.org_all-access_all-agents_2017-01-02\n",
      "!vote_en.wikipedia.org_all-access_all-agents_2017-01-03\n",
      "!vote_en.wikipedia.org_all-access_all-agents_2017-01-04\n",
      "!vote_en.wikipedia.org_all-access_all-agents_2017-01-05\n",
      "!vote_en.wikipedia.org_all-access_all-agents_2017-01-06\n",
      "!vote_en.wikipedia.org_all-access_all-agents_2017-01-07\n",
      "!vote_en.wikipedia.org_all-access_all-agents_2017-01-08\n",
      "!vote_en.wikipedia.org_all-access_all-agents_2017-01-09\n",
      "!vote_en.wikipedia.org_all-access_all-agents_2017-01-10\n",
      "!vote_en.wikipedia.org_all-access_all-agents_2017-01-11\n",
      "!vote_en.wikipedia.org_all-access_all-agents_2017-01-12\n",
      "!vote_en.wikipedia.org_all-access_all-agents_2017-01-13\n",
      "!vote_en.wikipedia.org_all-access_all-agents_2017-01-14\n",
      "!vote_en.wikipedia.org_all-access_all-agents_2017-01-15\n",
      "!vote_en.wikipedia.org_all-access_all-agents_2017-01-16\n",
      "!vote_en.wikipedia.org_all-access_all-agents_2017-01-17\n",
      "!vote_en.wikipedia.org_all-access_all-agents_2017-01-18\n",
      "!vote_en.wikipedia.org_all-access_all-agents_2017-01-19\n",
      "!vote_en.wikipedia.org_all-access_all-agents_2017-01-20\n",
      "!vote_en.wikipedia.org_all-access_all-agents_2017-01-21\n",
      "!vote_en.wikipedia.org_all-access_all-agents_2017-01-22\n",
      "!vote_en.wikipedia.org_all-access_all-agents_2017-01-23\n",
      "!vote_en.wikipedia.org_all-access_all-agents_2017-01-24\n",
      "!vote_en.wikipedia.org_all-access_all-agents_2017-01-25\n",
      "!vote_en.wikipedia.org_all-access_all-agents_2017-01-26\n",
      "!vote_en.wikipedia.org_all-access_all-agents_2017-01-27\n",
      "!vote_en.wikipedia.org_all-access_all-agents_2017-01-28\n",
      "!vote_en.wikipedia.org_all-access_all-agents_2017-01-29\n",
      "!vote_en.wikipedia.org_all-access_all-agents_2017-01-30\n",
      "!vote_en.wikipedia.org_all-access_all-agents_2017-01-31\n",
      "!vote_en.wikipedia.org_all-access_all-agents_2017-02-01\n",
      "!vote_en.wikipedia.org_all-access_all-agents_2017-02-02\n",
      "!vote_en.wikipedia.org_all-access_all-agents_2017-02-03\n",
      "!vote_en.wikipedia.org_all-access_all-agents_2017-02-04\n",
      "!vote_en.wikipedia.org_all-access_all-agents_2017-02-05\n",
      "!vote_en.wikipedia.org_all-access_all-agents_2017-02-06\n",
      "!vote_en.wikipedia.org_all-access_all-agents_2017-02-07\n",
      "!vote_en.wikipedia.org_all-access_all-agents_2017-02-08\n",
      "!vote_en.wikipedia.org_all-access_all-agents_2017-02-09\n",
      "!vote_en.wikipedia.org_all-access_all-agents_2017-02-10\n",
      "!vote_en.wikipedia.org_all-access_all-agents_2017-02-11\n",
      "!vote_en.wikipedia.org_all-access_all-agents_2017-02-12\n",
      "!vote_en.wikipedia.org_all-access_all-agents_2017-02-13\n",
      "!vote_en.wikipedia.org_all-access_all-agents_2017-02-14\n",
      "!vote_en.wikipedia.org_all-access_all-agents_2017-02-15\n",
      "!vote_en.wikipedia.org_all-access_all-agents_2017-02-16\n",
      "!vote_en.wikipedia.org_all-access_all-agents_2017-02-17\n",
      "!vote_en.wikipedia.org_all-access_all-agents_2017-02-18\n",
      "!vote_en.wikipedia.org_all-access_all-agents_2017-02-19\n",
      "!vote_en.wikipedia.org_all-access_all-agents_2017-02-20\n",
      "!vote_en.wikipedia.org_all-access_all-agents_2017-02-21\n",
      "!vote_en.wikipedia.org_all-access_all-agents_2017-02-22\n",
      "!vote_en.wikipedia.org_all-access_all-agents_2017-02-23\n",
      "!vote_en.wikipedia.org_all-access_all-agents_2017-02-24\n",
      "!vote_en.wikipedia.org_all-access_all-agents_2017-02-25\n",
      "!vote_en.wikipedia.org_all-access_all-agents_2017-02-26\n",
      "!vote_en.wikipedia.org_all-access_all-agents_2017-02-27\n",
      "!vote_en.wikipedia.org_all-access_all-agents_2017-02-28\n",
      "!vote_en.wikipedia.org_all-access_all-agents_2017-03-01\n"
     ]
    }
   ],
   "source": [
    "for i in range(60):\n",
    "    print(keys['Page'][i]) # page_date"
   ]
  },
  {
   "cell_type": "markdown",
   "metadata": {},
   "source": [
    "-----"
   ]
  },
  {
   "cell_type": "code",
   "execution_count": 16,
   "metadata": {
    "collapsed": true
   },
   "outputs": [],
   "source": [
    "def SMAPE(y, y_hat):\n",
    "    denom = np.abs(y) + np.abs(y_hat)\n",
    "    err = np.abs(y-y_hat)/denom\n",
    "    err[denom == 0] = 0\n",
    "    return 200.0*np.nanmean(err)"
   ]
  },
  {
   "cell_type": "markdown",
   "metadata": {},
   "source": [
    "## Models"
   ]
  },
  {
   "cell_type": "code",
   "execution_count": 17,
   "metadata": {
    "collapsed": true
   },
   "outputs": [],
   "source": [
    "## AR model by minimizing SMAPE\n",
    "from functools import partial\n",
    "from scipy.optimize import minimize"
   ]
  },
  {
   "cell_type": "code",
   "execution_count": 18,
   "metadata": {
    "collapsed": true
   },
   "outputs": [],
   "source": [
    "def loss_smape(lags, y, coff):\n",
    "    \"\"\"\n",
    "    lags: N by k matrix\n",
    "    y: 1D array of size N\n",
    "    coff: 1D array of size k+1, (weight, bias)\n",
    "    \"\"\"\n",
    "    w, b = coff[:-1], coff[-1]\n",
    "    y_hat = lags.dot(w) + b\n",
    "    return SMAPE(y, y_hat)"
   ]
  },
  {
   "cell_type": "code",
   "execution_count": 19,
   "metadata": {
    "collapsed": true
   },
   "outputs": [],
   "source": [
    "def fit_model(num_lags, access, verbose=True, coff_init=None, method='Nelder-Mead'):\n",
    "    assert num_lags >= 1, \\\n",
    "        \"num_lags must be at least 1, get {}\".format(num_lags)\n",
    "    access = access.fillna(0)\n",
    "    win_size = num_lags+1\n",
    "    X = []\n",
    "    Y = []\n",
    "    for index in range(0, len(access)-num_lags):\n",
    "        window = access[index:index+win_size]\n",
    "        lags, y = window[:-1], window[-1]\n",
    "        if pd.isnull(y) or pd.isnull(lags).any():\n",
    "            if verbose:\n",
    "                print(\"skipping {}\".format(series.index[index]))\n",
    "            continue\n",
    "        X.append(lags)\n",
    "        Y.append(y)\n",
    "    if len(X) == 0:\n",
    "        return None\n",
    "    X = np.array(X, dtype=np.float)\n",
    "    Y = np.array(Y, dtype=np.float)\n",
    "    loss = partial(loss_smape, X, Y)\n",
    "    if coff_init is not None:\n",
    "        coff = coff_init\n",
    "    else:\n",
    "        coff = np.random.rand(num_lags+1)\n",
    "    fit_result = minimize(loss, coff, method=method)\n",
    "    return fit_result"
   ]
  },
  {
   "cell_type": "code",
   "execution_count": 20,
   "metadata": {
    "collapsed": true
   },
   "outputs": [],
   "source": [
    "lags_to_try = [i for i in range(1, 15, 2)]"
   ]
  },
  {
   "cell_type": "code",
   "execution_count": 21,
   "metadata": {
    "collapsed": true
   },
   "outputs": [],
   "source": [
    "from collections import defaultdict\n",
    "import time"
   ]
  },
  {
   "cell_type": "code",
   "execution_count": 22,
   "metadata": {
    "collapsed": true
   },
   "outputs": [],
   "source": [
    "def find_fits(lags_to_try, data):\n",
    "    num_rows = data.shape[0]\n",
    "    models = defaultdict(lambda: [])\n",
    "    durations = []\n",
    "    for row_index in range(num_rows):\n",
    "        series = data.iloc[row_index, :]\n",
    "        page, access = series[0], series[1:]\n",
    "        print(\"Fitting model for {}\".format(page))\n",
    "        tic = time.time()\n",
    "        for num_lags in lags_to_try:\n",
    "            fit = fit_model(num_lags, access, verbose=False)\n",
    "            if fit is None:\n",
    "                print(\"Can't fit model for {} with lags {}\".format(page, num_lags))\n",
    "                print(\"Skipping following lags\")\n",
    "                break\n",
    "            results = {}\n",
    "            results[\"lags\"] = num_lags\n",
    "            results[\"loss\"] = fit.fun\n",
    "            results[\"success\"] = fit.success\n",
    "            results[\"x\"] = fit.x\n",
    "            models[page].append(results)\n",
    "        toc = time.time()\n",
    "        durations.append(toc-tic)\n",
    "        if (row_index+1) % 10 == 0:\n",
    "            print(\"mean fitting duration: {:.2f} seconds\".format(sum(durations)/10))\n",
    "            durations = []\n",
    "    return models"
   ]
  },
  {
   "cell_type": "code",
   "execution_count": 23,
   "metadata": {
    "collapsed": true
   },
   "outputs": [],
   "source": [
    "# this will takes too long to finish....\n",
    "# approximately 5 days on my laptop\n",
    "#models = find_fits(lags_to_try, train_data)"
   ]
  },
  {
   "cell_type": "code",
   "execution_count": 49,
   "metadata": {
    "collapsed": true
   },
   "outputs": [],
   "source": [
    "# trying multiprocessing"
   ]
  },
  {
   "cell_type": "code",
   "execution_count": 71,
   "metadata": {},
   "outputs": [
    {
     "name": "stdout",
     "output_type": "stream",
     "text": [
      "Overwriting mp_fit_model.py\n"
     ]
    }
   ],
   "source": [
    "%%writefile mp_fit_model.py\n",
    "#!/usr/bin/env python3\n",
    "import argparse\n",
    "import sys\n",
    "import pickle\n",
    "from multiprocessing import Process\n",
    "from multiprocessing import cpu_count, current_process\n",
    "from multiprocessing import Queue, JoinableQueue\n",
    "import pandas as pd\n",
    "from tasks import fit_model\n",
    "\n",
    "\n",
    "def worker(in_queue, out_queue):\n",
    "    pid = current_process().pid\n",
    "    while True:\n",
    "        try:\n",
    "            task = in_queue.get_nowait()\n",
    "            lags_to_try, ts = task\n",
    "            page, access = ts[0], ts[1:]\n",
    "            print(\"[{}] Processing {}\".format(pid, page), flush=True)\n",
    "            results = {}\n",
    "            for num_lags in lags_to_try:\n",
    "                model = fit_model(num_lags, access)\n",
    "                result = {}\n",
    "                result[\"loss\"] = model.fun\n",
    "                result[\"success\"] = model.success\n",
    "                result[\"x\"] = model.x\n",
    "                results[num_lags] = result\n",
    "            out_queue.put((page, results))\n",
    "            in_queue.task_done()\n",
    "        except Exception:\n",
    "            pass\n",
    "\n",
    "\n",
    "def consumer(out_queue):\n",
    "    models = {}\n",
    "    while True:\n",
    "        try:\n",
    "            record = out_queue.get_nowait()\n",
    "            if record is None:\n",
    "                break\n",
    "            page, result = record\n",
    "            models[page] = result\n",
    "        except Exception:\n",
    "            pass\n",
    "\n",
    "    # Saving results\n",
    "    with open(\"models.pickle\", \"wb\") as wf:\n",
    "        pickle.dump(models, wf)\n",
    "\n",
    "\n",
    "if __name__ == \"__main__\":\n",
    "    parser = argparse.ArgumentParser()\n",
    "    parser.add_argument(\"-n\", \"--num-workers\",\n",
    "                        dest=\"num_workers\",\n",
    "                        help=\"number of processes\",\n",
    "                        default=cpu_count()*2,\n",
    "                        type=int)\n",
    "    args = vars(parser.parse_args())\n",
    "    num_workers = args[\"num_workers\"]\n",
    "\n",
    "    print(\"reading data\")\n",
    "    train_data = pd.read_csv(\"./train_1.csv\", engine='c')\n",
    "    train_data.fillna(0, inplace=True)\n",
    "\n",
    "    in_queue = JoinableQueue()\n",
    "    out_queue = Queue()\n",
    "    for _ in range(num_workers):\n",
    "        p = Process(target=worker, args=(in_queue, out_queue,))\n",
    "        p.daemon = True\n",
    "        p.start()\n",
    "\n",
    "    p_consume = Process(target=consumer, args=(out_queue,))\n",
    "    p_consume.daemon = True\n",
    "    p_consume.start()\n",
    "\n",
    "    lags_to_try = [i for i in range(1, 9, 2)]\n",
    "    num_series = train_data.shape[0]\n",
    "    print(\"Setting input queue...\")\n",
    "    print(\"data enqued: 0.00%\", flush=True)\n",
    "    for index in range(num_series):\n",
    "        series = train_data.iloc[index, :]\n",
    "        in_queue.put((lags_to_try, series))\n",
    "        if (index+1) % 10000 == 0:\n",
    "            print(\"data enqued: {:.2f}%\".format(100.0*(index+1)/num_series),\n",
    "                  flush=True)\n",
    "    print(\"data enqued: 100.00%\", flush=True)\n",
    "    in_queue.close()\n",
    "    in_queue.join()\n",
    "    print(\"Input queue joined\", flush=True)\n",
    "    out_queue.put(None)\n",
    "    p_consume.join()\n",
    "    print(\"consumer joined\", flush=True)\n",
    "\n",
    "    print(\"All tasks done\")\n",
    "    sys.exit(0)\n"
   ]
  },
  {
   "cell_type": "code",
   "execution_count": null,
   "metadata": {
    "collapsed": true
   },
   "outputs": [],
   "source": [
    "!python3 ./mp_fit_model.py > fit_log.txt"
   ]
  },
  {
   "cell_type": "markdown",
   "metadata": {
    "collapsed": true
   },
   "source": [
    "-----"
   ]
  },
  {
   "cell_type": "code",
   "execution_count": 29,
   "metadata": {
    "collapsed": true
   },
   "outputs": [],
   "source": [
    "import datetime"
   ]
  },
  {
   "cell_type": "code",
   "execution_count": 41,
   "metadata": {
    "collapsed": true
   },
   "outputs": [],
   "source": [
    "start_date = datetime.datetime.strptime(\"01/01/2017\", \"%d/%m/%Y\")"
   ]
  },
  {
   "cell_type": "code",
   "execution_count": 42,
   "metadata": {
    "collapsed": true
   },
   "outputs": [],
   "source": [
    "dates = [start_date+datetime.timedelta(days=i) for i in range(60)]"
   ]
  },
  {
   "cell_type": "code",
   "execution_count": 43,
   "metadata": {},
   "outputs": [
    {
     "data": {
      "text/plain": [
       "datetime.datetime(2017, 3, 1, 0, 0)"
      ]
     },
     "execution_count": 43,
     "metadata": {},
     "output_type": "execute_result"
    }
   ],
   "source": [
    "dates[-1]"
   ]
  },
  {
   "cell_type": "code",
   "execution_count": 50,
   "metadata": {},
   "outputs": [
    {
     "name": "stdout",
     "output_type": "stream",
     "text": [
      "!vote_en.wikipedia.org_all-access_all-agents_2017-01-01: bf4edcf969af\n",
      "!vote_en.wikipedia.org_all-access_all-agents_2017-01-02: 929ed2bf52b9\n",
      "!vote_en.wikipedia.org_all-access_all-agents_2017-01-03: ff29d0f51d5c\n",
      "!vote_en.wikipedia.org_all-access_all-agents_2017-01-04: e98873359be6\n",
      "!vote_en.wikipedia.org_all-access_all-agents_2017-01-05: fa012434263a\n",
      "!vote_en.wikipedia.org_all-access_all-agents_2017-01-06: 48f1e93517a2\n",
      "!vote_en.wikipedia.org_all-access_all-agents_2017-01-07: 5def418fcb36\n",
      "!vote_en.wikipedia.org_all-access_all-agents_2017-01-08: 77bd08134351\n",
      "!vote_en.wikipedia.org_all-access_all-agents_2017-01-09: 5889e6dbb16f\n",
      "!vote_en.wikipedia.org_all-access_all-agents_2017-01-10: 5f21fef1d764\n",
      "!vote_en.wikipedia.org_all-access_all-agents_2017-01-11: 6f07e1b8815a\n",
      "!vote_en.wikipedia.org_all-access_all-agents_2017-01-12: 228e54b5dea0\n",
      "!vote_en.wikipedia.org_all-access_all-agents_2017-01-13: da1b34963ed7\n",
      "!vote_en.wikipedia.org_all-access_all-agents_2017-01-14: ab5ccefaa2db\n",
      "!vote_en.wikipedia.org_all-access_all-agents_2017-01-15: cbf42873ebf1\n",
      "!vote_en.wikipedia.org_all-access_all-agents_2017-01-16: ac67e35ed44e\n",
      "!vote_en.wikipedia.org_all-access_all-agents_2017-01-17: 88c098aa640d\n",
      "!vote_en.wikipedia.org_all-access_all-agents_2017-01-18: 7c72842a89d1\n",
      "!vote_en.wikipedia.org_all-access_all-agents_2017-01-19: 8ce002f2c329\n",
      "!vote_en.wikipedia.org_all-access_all-agents_2017-01-20: 5f72d9920560\n",
      "!vote_en.wikipedia.org_all-access_all-agents_2017-01-21: f93afd7f5d9b\n",
      "!vote_en.wikipedia.org_all-access_all-agents_2017-01-22: 14011cb66f2d\n",
      "!vote_en.wikipedia.org_all-access_all-agents_2017-01-23: 0065551ac465\n",
      "!vote_en.wikipedia.org_all-access_all-agents_2017-01-24: 175f1872729e\n",
      "!vote_en.wikipedia.org_all-access_all-agents_2017-01-25: 31d756e83124\n",
      "!vote_en.wikipedia.org_all-access_all-agents_2017-01-26: e186c2363c5e\n",
      "!vote_en.wikipedia.org_all-access_all-agents_2017-01-27: 3bce56c2b977\n",
      "!vote_en.wikipedia.org_all-access_all-agents_2017-01-28: d497981dce77\n",
      "!vote_en.wikipedia.org_all-access_all-agents_2017-01-29: c813cec10548\n",
      "!vote_en.wikipedia.org_all-access_all-agents_2017-01-30: 5123e0ed62c9\n",
      "!vote_en.wikipedia.org_all-access_all-agents_2017-01-31: d9afcbdcb5fa\n",
      "!vote_en.wikipedia.org_all-access_all-agents_2017-02-01: 9cea49b145be\n",
      "!vote_en.wikipedia.org_all-access_all-agents_2017-02-02: 662d1762fe62\n",
      "!vote_en.wikipedia.org_all-access_all-agents_2017-02-03: f11a8e84ce71\n",
      "!vote_en.wikipedia.org_all-access_all-agents_2017-02-04: f5767abcc47a\n",
      "!vote_en.wikipedia.org_all-access_all-agents_2017-02-05: 5c8b09ee5606\n",
      "!vote_en.wikipedia.org_all-access_all-agents_2017-02-06: 543136d951a2\n",
      "!vote_en.wikipedia.org_all-access_all-agents_2017-02-07: 367a7aac0d12\n",
      "!vote_en.wikipedia.org_all-access_all-agents_2017-02-08: 2228d2279bcd\n",
      "!vote_en.wikipedia.org_all-access_all-agents_2017-02-09: 83845c1c3a5e\n",
      "!vote_en.wikipedia.org_all-access_all-agents_2017-02-10: c81e6ace9542\n",
      "!vote_en.wikipedia.org_all-access_all-agents_2017-02-11: e0db2882c6d5\n",
      "!vote_en.wikipedia.org_all-access_all-agents_2017-02-12: 7241dd6f9689\n",
      "!vote_en.wikipedia.org_all-access_all-agents_2017-02-13: 66cac602b17e\n",
      "!vote_en.wikipedia.org_all-access_all-agents_2017-02-14: 60a992e1191b\n",
      "!vote_en.wikipedia.org_all-access_all-agents_2017-02-15: 5905cba108cf\n",
      "!vote_en.wikipedia.org_all-access_all-agents_2017-02-16: 28d984d4f714\n",
      "!vote_en.wikipedia.org_all-access_all-agents_2017-02-17: d2eb53b48c1b\n",
      "!vote_en.wikipedia.org_all-access_all-agents_2017-02-18: 0d2f1b595ba3\n",
      "!vote_en.wikipedia.org_all-access_all-agents_2017-02-19: 57b06c927c70\n",
      "!vote_en.wikipedia.org_all-access_all-agents_2017-02-20: 631c87cabf7f\n",
      "!vote_en.wikipedia.org_all-access_all-agents_2017-02-21: 1955bd7a9816\n",
      "!vote_en.wikipedia.org_all-access_all-agents_2017-02-22: e80335ecc8ef\n",
      "!vote_en.wikipedia.org_all-access_all-agents_2017-02-23: 9245e4a0d121\n",
      "!vote_en.wikipedia.org_all-access_all-agents_2017-02-24: 452368dcf3be\n",
      "!vote_en.wikipedia.org_all-access_all-agents_2017-02-25: 83fb585dfc58\n",
      "!vote_en.wikipedia.org_all-access_all-agents_2017-02-26: 44a54e349d1b\n",
      "!vote_en.wikipedia.org_all-access_all-agents_2017-02-27: 31821ddbbda4\n",
      "!vote_en.wikipedia.org_all-access_all-agents_2017-02-28: 2414c3e6dd97\n",
      "!vote_en.wikipedia.org_all-access_all-agents_2017-03-01: 0cfde109bcf5\n"
     ]
    }
   ],
   "source": [
    "url_str = \"!vote_en.wikipedia.org_all-access_all-agents\"\n",
    "for date in dates:\n",
    "    s = \"{}_{}\".format(url_str, date.date())\n",
    "    print(\"{}: {}\".format(s, keys.loc[s, \"Id\"]))"
   ]
  },
  {
   "cell_type": "markdown",
   "metadata": {},
   "source": [
    "------"
   ]
  },
  {
   "cell_type": "code",
   "execution_count": null,
   "metadata": {
    "collapsed": true
   },
   "outputs": [],
   "source": [
    "# last 2 month submission\n"
   ]
  },
  {
   "cell_type": "markdown",
   "metadata": {},
   "source": [
    "------"
   ]
  },
  {
   "cell_type": "code",
   "execution_count": 3,
   "metadata": {
    "collapsed": true
   },
   "outputs": [],
   "source": [
    "# mean submission\n",
    "# found from https://www.kaggle.com/davidfumo/page-mean-lb-65-3/code\n",
    "train = train_data.copy()\n",
    "submission = keys.copy()\n",
    "\n",
    "submission['Page'] = submission.Page.apply(lambda a: a[:-11])\n",
    "train['Visits'] = train.drop('Page', axis=1).mean(axis=1, skipna=True).round(decimals=2)\n",
    "\n",
    "submission = submission.merge(train[['Page','Visits']], how='left')\n",
    "submission.loc[submission.Visits.isnull(), 'Visits'] = 0\n",
    "submission[['Id','Visits']].to_csv('mean_submission.csv', index=False)\n",
    "\n",
    "del train, submission"
   ]
  },
  {
   "cell_type": "markdown",
   "metadata": {},
   "source": [
    "-----"
   ]
  },
  {
   "cell_type": "code",
   "execution_count": 47,
   "metadata": {
    "collapsed": true
   },
   "outputs": [],
   "source": [
    "# medium submission\n",
    "# mean submission\n",
    "# found from https://www.kaggle.com/davidfumo/page-mean-lb-65-3/code\n",
    "train = train_data.copy()\n",
    "submission = keys.copy()\n",
    "\n",
    "submission['Page'] = submission.Page.apply(lambda a: a[:-11])\n",
    "train['Visits'] = train.drop('Page', axis=1).median(axis=1, skipna=True)\n",
    "\n",
    "submission = submission.merge(train[['Page','Visits']], how='left')\n",
    "submission.loc[submission.Visits.isnull(), 'Visits'] = 0\n",
    "submission[['Id','Visits']].to_csv('median_submission.csv', index=False)\n",
    "\n",
    "del train, submission"
   ]
  },
  {
   "cell_type": "markdown",
   "metadata": {},
   "source": [
    "-----"
   ]
  },
  {
   "cell_type": "code",
   "execution_count": null,
   "metadata": {
    "collapsed": true
   },
   "outputs": [],
   "source": [
    "# 8 weeks medium\n",
    "train = train_data.copy()\n",
    "submission = keys.copy()\n",
    "\n",
    "submission['Page'] = submission.Page.apply(lambda a: a[:-11])\n",
    "train[\"Visits\"] = train.iloc[:, -56:].median(axis=1, skipna=True)\n",
    "\n",
    "submission = submission.merge(train[[\"Page\", \"Visits\"]], how=\"left\")\n",
    "submission.loc[submission[\"Visits\"].isnull(), \"Visits\"] = 0\n",
    "submission[[\"Id\", \"Visits\"]].to_csv(\"eight_week_median.csv\", index=False)\n",
    "\n",
    "del train, submission"
   ]
  },
  {
   "cell_type": "markdown",
   "metadata": {
    "collapsed": true
   },
   "source": [
    "-----"
   ]
  },
  {
   "cell_type": "code",
   "execution_count": 17,
   "metadata": {
    "collapsed": true
   },
   "outputs": [],
   "source": [
    "# 8 weeks mean\n",
    "train = train_data.copy()\n",
    "submission = keys.copy()\n",
    "\n",
    "submission['Page'] = submission.Page.apply(lambda a: a[:-11])\n",
    "train[\"Visits\"] = train.iloc[:, -56:].mean(axis=1, skipna=True).round(decimals=2)\n",
    "\n",
    "submission = submission.merge(train[[\"Page\", \"Visits\"]], how=\"left\")\n",
    "submission.loc[submission[\"Visits\"].isnull(), \"Visits\"] = 0\n",
    "submission[[\"Id\", \"Visits\"]].to_csv(\"eight_week_mean.csv\", index=False)\n",
    "\n",
    "del train, submission"
   ]
  },
  {
   "cell_type": "markdown",
   "metadata": {},
   "source": [
    "------"
   ]
  },
  {
   "cell_type": "code",
   "execution_count": 25,
   "metadata": {
    "collapsed": true
   },
   "outputs": [],
   "source": [
    "# 4 weeks median\n",
    "train = train_data.copy()\n",
    "submission = keys.copy()\n",
    "\n",
    "submission[\"Page\"] = submission.Page.apply(lambda a: a[:-11])\n",
    "train[\"Visits\"] = train.iloc[:, -28:].median(axis=1, skipna=True)\n",
    "\n",
    "submission = submission.merge(train[[\"Page\", \"Visits\"]], how=\"left\")\n",
    "submission.loc[submission[\"Visits\"].isnull(), \"Visits\"] = 0\n",
    "submission[[\"Id\", \"Visits\"]].to_csv(\"four_week_median.csv\", index=False)\n",
    "\n",
    "del train, submission"
   ]
  },
  {
   "cell_type": "markdown",
   "metadata": {},
   "source": [
    "----"
   ]
  },
  {
   "cell_type": "code",
   "execution_count": 66,
   "metadata": {
    "collapsed": true
   },
   "outputs": [],
   "source": [
    "def clean_data_median(df):\n",
    "    clean_df = df.copy()\n",
    "    for i in range(clean_df.shape[0]):\n",
    "        med = clean_df.iloc[i, 1:].median(skipna=True)\n",
    "        clean_df.iloc[i, 1:].fillna(med, inplace=True)\n",
    "    return clean_df"
   ]
  },
  {
   "cell_type": "code",
   "execution_count": 67,
   "metadata": {},
   "outputs": [
    {
     "ename": "KeyboardInterrupt",
     "evalue": "",
     "output_type": "error",
     "traceback": [
      "\u001b[0;31m---------------------------------------------------------------------------\u001b[0m",
      "\u001b[0;31mKeyboardInterrupt\u001b[0m                         Traceback (most recent call last)",
      "\u001b[0;32m<ipython-input-67-75001fdb1b02>\u001b[0m in \u001b[0;36m<module>\u001b[0;34m()\u001b[0m\n\u001b[0;32m----> 1\u001b[0;31m \u001b[0mclean_data_median\u001b[0m\u001b[0;34m(\u001b[0m\u001b[0mtrain_data\u001b[0m\u001b[0;34m)\u001b[0m\u001b[0;34m.\u001b[0m\u001b[0mhead\u001b[0m\u001b[0;34m(\u001b[0m\u001b[0;36m20\u001b[0m\u001b[0;34m)\u001b[0m\u001b[0;34m\u001b[0m\u001b[0m\n\u001b[0m",
      "\u001b[0;32m<ipython-input-66-8fbe34bf33e3>\u001b[0m in \u001b[0;36mclean_data_median\u001b[0;34m(df)\u001b[0m\n\u001b[1;32m      2\u001b[0m     \u001b[0mclean_df\u001b[0m \u001b[0;34m=\u001b[0m \u001b[0mdf\u001b[0m\u001b[0;34m.\u001b[0m\u001b[0mcopy\u001b[0m\u001b[0;34m(\u001b[0m\u001b[0;34m)\u001b[0m\u001b[0;34m\u001b[0m\u001b[0m\n\u001b[1;32m      3\u001b[0m     \u001b[0;32mfor\u001b[0m \u001b[0mi\u001b[0m \u001b[0;32min\u001b[0m \u001b[0mrange\u001b[0m\u001b[0;34m(\u001b[0m\u001b[0mclean_df\u001b[0m\u001b[0;34m.\u001b[0m\u001b[0mshape\u001b[0m\u001b[0;34m[\u001b[0m\u001b[0;36m0\u001b[0m\u001b[0;34m]\u001b[0m\u001b[0;34m)\u001b[0m\u001b[0;34m:\u001b[0m\u001b[0;34m\u001b[0m\u001b[0m\n\u001b[0;32m----> 4\u001b[0;31m         \u001b[0mmed\u001b[0m \u001b[0;34m=\u001b[0m \u001b[0mclean_df\u001b[0m\u001b[0;34m.\u001b[0m\u001b[0miloc\u001b[0m\u001b[0;34m[\u001b[0m\u001b[0mi\u001b[0m\u001b[0;34m,\u001b[0m \u001b[0;36m1\u001b[0m\u001b[0;34m:\u001b[0m\u001b[0;34m]\u001b[0m\u001b[0;34m.\u001b[0m\u001b[0mmedian\u001b[0m\u001b[0;34m(\u001b[0m\u001b[0;34m)\u001b[0m\u001b[0;34m\u001b[0m\u001b[0m\n\u001b[0m\u001b[1;32m      5\u001b[0m         \u001b[0mclean_df\u001b[0m\u001b[0;34m.\u001b[0m\u001b[0miloc\u001b[0m\u001b[0;34m[\u001b[0m\u001b[0mi\u001b[0m\u001b[0;34m,\u001b[0m \u001b[0;36m1\u001b[0m\u001b[0;34m:\u001b[0m\u001b[0;34m]\u001b[0m\u001b[0;34m.\u001b[0m\u001b[0mfillna\u001b[0m\u001b[0;34m(\u001b[0m\u001b[0mmed\u001b[0m\u001b[0;34m,\u001b[0m \u001b[0minplace\u001b[0m\u001b[0;34m=\u001b[0m\u001b[0;32mTrue\u001b[0m\u001b[0;34m)\u001b[0m\u001b[0;34m\u001b[0m\u001b[0m\n\u001b[1;32m      6\u001b[0m     \u001b[0;32mreturn\u001b[0m \u001b[0mclean_df\u001b[0m\u001b[0;34m\u001b[0m\u001b[0m\n",
      "\u001b[0;32m/usr/local/lib/python3.6/site-packages/pandas/core/generic.py\u001b[0m in \u001b[0;36mstat_func\u001b[0;34m(self, axis, skipna, level, numeric_only, **kwargs)\u001b[0m\n\u001b[1;32m   6340\u001b[0m                                       skipna=skipna)\n\u001b[1;32m   6341\u001b[0m         return self._reduce(f, name, axis=axis, skipna=skipna,\n\u001b[0;32m-> 6342\u001b[0;31m                             numeric_only=numeric_only)\n\u001b[0m\u001b[1;32m   6343\u001b[0m \u001b[0;34m\u001b[0m\u001b[0m\n\u001b[1;32m   6344\u001b[0m     \u001b[0;32mreturn\u001b[0m \u001b[0mset_function_name\u001b[0m\u001b[0;34m(\u001b[0m\u001b[0mstat_func\u001b[0m\u001b[0;34m,\u001b[0m \u001b[0mname\u001b[0m\u001b[0;34m,\u001b[0m \u001b[0mcls\u001b[0m\u001b[0;34m)\u001b[0m\u001b[0;34m\u001b[0m\u001b[0m\n",
      "\u001b[0;32m/usr/local/lib/python3.6/site-packages/pandas/core/series.py\u001b[0m in \u001b[0;36m_reduce\u001b[0;34m(self, op, name, axis, skipna, numeric_only, filter_type, **kwds)\u001b[0m\n\u001b[1;32m   2379\u001b[0m                                           'numeric_only.'.format(name))\n\u001b[1;32m   2380\u001b[0m             \u001b[0;32mwith\u001b[0m \u001b[0mnp\u001b[0m\u001b[0;34m.\u001b[0m\u001b[0merrstate\u001b[0m\u001b[0;34m(\u001b[0m\u001b[0mall\u001b[0m\u001b[0;34m=\u001b[0m\u001b[0;34m'ignore'\u001b[0m\u001b[0;34m)\u001b[0m\u001b[0;34m:\u001b[0m\u001b[0;34m\u001b[0m\u001b[0m\n\u001b[0;32m-> 2381\u001b[0;31m                 \u001b[0;32mreturn\u001b[0m \u001b[0mop\u001b[0m\u001b[0;34m(\u001b[0m\u001b[0mdelegate\u001b[0m\u001b[0;34m,\u001b[0m \u001b[0mskipna\u001b[0m\u001b[0;34m=\u001b[0m\u001b[0mskipna\u001b[0m\u001b[0;34m,\u001b[0m \u001b[0;34m**\u001b[0m\u001b[0mkwds\u001b[0m\u001b[0;34m)\u001b[0m\u001b[0;34m\u001b[0m\u001b[0m\n\u001b[0m\u001b[1;32m   2382\u001b[0m \u001b[0;34m\u001b[0m\u001b[0m\n\u001b[1;32m   2383\u001b[0m         return delegate._reduce(op=op, name=name, axis=axis, skipna=skipna,\n",
      "\u001b[0;32m/usr/local/lib/python3.6/site-packages/pandas/core/nanops.py\u001b[0m in \u001b[0;36m_f\u001b[0;34m(*args, **kwargs)\u001b[0m\n\u001b[1;32m     60\u001b[0m             \u001b[0;32mtry\u001b[0m\u001b[0;34m:\u001b[0m\u001b[0;34m\u001b[0m\u001b[0m\n\u001b[1;32m     61\u001b[0m                 \u001b[0;32mwith\u001b[0m \u001b[0mnp\u001b[0m\u001b[0;34m.\u001b[0m\u001b[0merrstate\u001b[0m\u001b[0;34m(\u001b[0m\u001b[0minvalid\u001b[0m\u001b[0;34m=\u001b[0m\u001b[0;34m'ignore'\u001b[0m\u001b[0;34m)\u001b[0m\u001b[0;34m:\u001b[0m\u001b[0;34m\u001b[0m\u001b[0m\n\u001b[0;32m---> 62\u001b[0;31m                     \u001b[0;32mreturn\u001b[0m \u001b[0mf\u001b[0m\u001b[0;34m(\u001b[0m\u001b[0;34m*\u001b[0m\u001b[0margs\u001b[0m\u001b[0;34m,\u001b[0m \u001b[0;34m**\u001b[0m\u001b[0mkwargs\u001b[0m\u001b[0;34m)\u001b[0m\u001b[0;34m\u001b[0m\u001b[0m\n\u001b[0m\u001b[1;32m     63\u001b[0m             \u001b[0;32mexcept\u001b[0m \u001b[0mValueError\u001b[0m \u001b[0;32mas\u001b[0m \u001b[0me\u001b[0m\u001b[0;34m:\u001b[0m\u001b[0;34m\u001b[0m\u001b[0m\n\u001b[1;32m     64\u001b[0m                 \u001b[0;31m# we want to transform an object array\u001b[0m\u001b[0;34m\u001b[0m\u001b[0;34m\u001b[0m\u001b[0m\n",
      "\u001b[0;32m/usr/local/lib/python3.6/site-packages/pandas/core/nanops.py\u001b[0m in \u001b[0;36mf\u001b[0;34m(values, axis, skipna, **kwds)\u001b[0m\n\u001b[1;32m    117\u001b[0m                         \u001b[0mresult\u001b[0m \u001b[0;34m=\u001b[0m \u001b[0malt\u001b[0m\u001b[0;34m(\u001b[0m\u001b[0mvalues\u001b[0m\u001b[0;34m,\u001b[0m \u001b[0maxis\u001b[0m\u001b[0;34m=\u001b[0m\u001b[0maxis\u001b[0m\u001b[0;34m,\u001b[0m \u001b[0mskipna\u001b[0m\u001b[0;34m=\u001b[0m\u001b[0mskipna\u001b[0m\u001b[0;34m,\u001b[0m \u001b[0;34m**\u001b[0m\u001b[0mkwds\u001b[0m\u001b[0;34m)\u001b[0m\u001b[0;34m\u001b[0m\u001b[0m\n\u001b[1;32m    118\u001b[0m                 \u001b[0;32melse\u001b[0m\u001b[0;34m:\u001b[0m\u001b[0;34m\u001b[0m\u001b[0m\n\u001b[0;32m--> 119\u001b[0;31m                     \u001b[0mresult\u001b[0m \u001b[0;34m=\u001b[0m \u001b[0malt\u001b[0m\u001b[0;34m(\u001b[0m\u001b[0mvalues\u001b[0m\u001b[0;34m,\u001b[0m \u001b[0maxis\u001b[0m\u001b[0;34m=\u001b[0m\u001b[0maxis\u001b[0m\u001b[0;34m,\u001b[0m \u001b[0mskipna\u001b[0m\u001b[0;34m=\u001b[0m\u001b[0mskipna\u001b[0m\u001b[0;34m,\u001b[0m \u001b[0;34m**\u001b[0m\u001b[0mkwds\u001b[0m\u001b[0;34m)\u001b[0m\u001b[0;34m\u001b[0m\u001b[0m\n\u001b[0m\u001b[1;32m    120\u001b[0m             \u001b[0;32mexcept\u001b[0m \u001b[0mException\u001b[0m\u001b[0;34m:\u001b[0m\u001b[0;34m\u001b[0m\u001b[0m\n\u001b[1;32m    121\u001b[0m                 \u001b[0;32mtry\u001b[0m\u001b[0;34m:\u001b[0m\u001b[0;34m\u001b[0m\u001b[0m\n",
      "\u001b[0;32m/usr/local/lib/python3.6/site-packages/pandas/core/nanops.py\u001b[0m in \u001b[0;36mnanmedian\u001b[0;34m(values, axis, skipna)\u001b[0m\n\u001b[1;32m    327\u001b[0m \u001b[0;32mdef\u001b[0m \u001b[0mnanmedian\u001b[0m\u001b[0;34m(\u001b[0m\u001b[0mvalues\u001b[0m\u001b[0;34m,\u001b[0m \u001b[0maxis\u001b[0m\u001b[0;34m=\u001b[0m\u001b[0;32mNone\u001b[0m\u001b[0;34m,\u001b[0m \u001b[0mskipna\u001b[0m\u001b[0;34m=\u001b[0m\u001b[0;32mTrue\u001b[0m\u001b[0;34m)\u001b[0m\u001b[0;34m:\u001b[0m\u001b[0;34m\u001b[0m\u001b[0m\n\u001b[1;32m    328\u001b[0m \u001b[0;34m\u001b[0m\u001b[0m\n\u001b[0;32m--> 329\u001b[0;31m     \u001b[0mvalues\u001b[0m\u001b[0;34m,\u001b[0m \u001b[0mmask\u001b[0m\u001b[0;34m,\u001b[0m \u001b[0mdtype\u001b[0m\u001b[0;34m,\u001b[0m \u001b[0mdtype_max\u001b[0m \u001b[0;34m=\u001b[0m \u001b[0m_get_values\u001b[0m\u001b[0;34m(\u001b[0m\u001b[0mvalues\u001b[0m\u001b[0;34m,\u001b[0m \u001b[0mskipna\u001b[0m\u001b[0;34m)\u001b[0m\u001b[0;34m\u001b[0m\u001b[0m\n\u001b[0m\u001b[1;32m    330\u001b[0m \u001b[0;34m\u001b[0m\u001b[0m\n\u001b[1;32m    331\u001b[0m     \u001b[0;32mdef\u001b[0m \u001b[0mget_median\u001b[0m\u001b[0;34m(\u001b[0m\u001b[0mx\u001b[0m\u001b[0;34m)\u001b[0m\u001b[0;34m:\u001b[0m\u001b[0;34m\u001b[0m\u001b[0m\n",
      "\u001b[0;32m/usr/local/lib/python3.6/site-packages/pandas/core/nanops.py\u001b[0m in \u001b[0;36m_get_values\u001b[0;34m(values, skipna, fill_value, fill_value_typ, isfinite, copy)\u001b[0m\n\u001b[1;32m    196\u001b[0m         \u001b[0mmask\u001b[0m \u001b[0;34m=\u001b[0m \u001b[0m_isfinite\u001b[0m\u001b[0;34m(\u001b[0m\u001b[0mvalues\u001b[0m\u001b[0;34m)\u001b[0m\u001b[0;34m\u001b[0m\u001b[0m\n\u001b[1;32m    197\u001b[0m     \u001b[0;32melse\u001b[0m\u001b[0;34m:\u001b[0m\u001b[0;34m\u001b[0m\u001b[0m\n\u001b[0;32m--> 198\u001b[0;31m         \u001b[0mmask\u001b[0m \u001b[0;34m=\u001b[0m \u001b[0misnull\u001b[0m\u001b[0;34m(\u001b[0m\u001b[0mvalues\u001b[0m\u001b[0;34m)\u001b[0m\u001b[0;34m\u001b[0m\u001b[0m\n\u001b[0m\u001b[1;32m    199\u001b[0m \u001b[0;34m\u001b[0m\u001b[0m\n\u001b[1;32m    200\u001b[0m     \u001b[0mdtype\u001b[0m \u001b[0;34m=\u001b[0m \u001b[0mvalues\u001b[0m\u001b[0;34m.\u001b[0m\u001b[0mdtype\u001b[0m\u001b[0;34m\u001b[0m\u001b[0m\n",
      "\u001b[0;32m/usr/local/lib/python3.6/site-packages/pandas/core/dtypes/missing.py\u001b[0m in \u001b[0;36misnull\u001b[0;34m(obj)\u001b[0m\n\u001b[1;32m     42\u001b[0m     \u001b[0mpandas\u001b[0m\u001b[0;34m.\u001b[0m\u001b[0mnotnull\u001b[0m\u001b[0;34m:\u001b[0m \u001b[0mboolean\u001b[0m \u001b[0minverse\u001b[0m \u001b[0mof\u001b[0m \u001b[0mpandas\u001b[0m\u001b[0;34m.\u001b[0m\u001b[0misnull\u001b[0m\u001b[0;34m\u001b[0m\u001b[0m\n\u001b[1;32m     43\u001b[0m     \"\"\"\n\u001b[0;32m---> 44\u001b[0;31m     \u001b[0;32mreturn\u001b[0m \u001b[0m_isnull\u001b[0m\u001b[0;34m(\u001b[0m\u001b[0mobj\u001b[0m\u001b[0;34m)\u001b[0m\u001b[0;34m\u001b[0m\u001b[0m\n\u001b[0m\u001b[1;32m     45\u001b[0m \u001b[0;34m\u001b[0m\u001b[0m\n\u001b[1;32m     46\u001b[0m \u001b[0;34m\u001b[0m\u001b[0m\n",
      "\u001b[0;32m/usr/local/lib/python3.6/site-packages/pandas/core/dtypes/missing.py\u001b[0m in \u001b[0;36m_isnull_new\u001b[0;34m(obj)\u001b[0m\n\u001b[1;32m     52\u001b[0m         \u001b[0;32mraise\u001b[0m \u001b[0mNotImplementedError\u001b[0m\u001b[0;34m(\u001b[0m\u001b[0;34m\"isnull is not defined for MultiIndex\"\u001b[0m\u001b[0;34m)\u001b[0m\u001b[0;34m\u001b[0m\u001b[0m\n\u001b[1;32m     53\u001b[0m     \u001b[0;32melif\u001b[0m \u001b[0misinstance\u001b[0m\u001b[0;34m(\u001b[0m\u001b[0mobj\u001b[0m\u001b[0;34m,\u001b[0m \u001b[0;34m(\u001b[0m\u001b[0mABCSeries\u001b[0m\u001b[0;34m,\u001b[0m \u001b[0mnp\u001b[0m\u001b[0;34m.\u001b[0m\u001b[0mndarray\u001b[0m\u001b[0;34m,\u001b[0m \u001b[0mABCIndexClass\u001b[0m\u001b[0;34m)\u001b[0m\u001b[0;34m)\u001b[0m\u001b[0;34m:\u001b[0m\u001b[0;34m\u001b[0m\u001b[0m\n\u001b[0;32m---> 54\u001b[0;31m         \u001b[0;32mreturn\u001b[0m \u001b[0m_isnull_ndarraylike\u001b[0m\u001b[0;34m(\u001b[0m\u001b[0mobj\u001b[0m\u001b[0;34m)\u001b[0m\u001b[0;34m\u001b[0m\u001b[0m\n\u001b[0m\u001b[1;32m     55\u001b[0m     \u001b[0;32melif\u001b[0m \u001b[0misinstance\u001b[0m\u001b[0;34m(\u001b[0m\u001b[0mobj\u001b[0m\u001b[0;34m,\u001b[0m \u001b[0mABCGeneric\u001b[0m\u001b[0;34m)\u001b[0m\u001b[0;34m:\u001b[0m\u001b[0;34m\u001b[0m\u001b[0m\n\u001b[1;32m     56\u001b[0m         \u001b[0;32mreturn\u001b[0m \u001b[0mobj\u001b[0m\u001b[0;34m.\u001b[0m\u001b[0m_constructor\u001b[0m\u001b[0;34m(\u001b[0m\u001b[0mobj\u001b[0m\u001b[0;34m.\u001b[0m\u001b[0m_data\u001b[0m\u001b[0;34m.\u001b[0m\u001b[0misnull\u001b[0m\u001b[0;34m(\u001b[0m\u001b[0mfunc\u001b[0m\u001b[0;34m=\u001b[0m\u001b[0misnull\u001b[0m\u001b[0;34m)\u001b[0m\u001b[0;34m)\u001b[0m\u001b[0;34m\u001b[0m\u001b[0m\n",
      "\u001b[0;32m/usr/local/lib/python3.6/site-packages/pandas/core/dtypes/missing.py\u001b[0m in \u001b[0;36m_isnull_ndarraylike\u001b[0;34m(obj)\u001b[0m\n\u001b[1;32m    122\u001b[0m     \u001b[0mdtype\u001b[0m \u001b[0;34m=\u001b[0m \u001b[0mvalues\u001b[0m\u001b[0;34m.\u001b[0m\u001b[0mdtype\u001b[0m\u001b[0;34m\u001b[0m\u001b[0m\n\u001b[1;32m    123\u001b[0m \u001b[0;34m\u001b[0m\u001b[0m\n\u001b[0;32m--> 124\u001b[0;31m     \u001b[0;32mif\u001b[0m \u001b[0mis_string_dtype\u001b[0m\u001b[0;34m(\u001b[0m\u001b[0mdtype\u001b[0m\u001b[0;34m)\u001b[0m\u001b[0;34m:\u001b[0m\u001b[0;34m\u001b[0m\u001b[0m\n\u001b[0m\u001b[1;32m    125\u001b[0m         \u001b[0;32mif\u001b[0m \u001b[0mis_categorical_dtype\u001b[0m\u001b[0;34m(\u001b[0m\u001b[0mvalues\u001b[0m\u001b[0;34m)\u001b[0m\u001b[0;34m:\u001b[0m\u001b[0;34m\u001b[0m\u001b[0m\n\u001b[1;32m    126\u001b[0m             \u001b[0;32mfrom\u001b[0m \u001b[0mpandas\u001b[0m \u001b[0;32mimport\u001b[0m \u001b[0mCategorical\u001b[0m\u001b[0;34m\u001b[0m\u001b[0m\n",
      "\u001b[0;32m/usr/local/lib/python3.6/site-packages/pandas/core/dtypes/common.py\u001b[0m in \u001b[0;36mis_string_dtype\u001b[0;34m(arr_or_dtype)\u001b[0m\n\u001b[1;32m    536\u001b[0m         \u001b[0;32mreturn\u001b[0m \u001b[0;32mFalse\u001b[0m\u001b[0;34m\u001b[0m\u001b[0m\n\u001b[1;32m    537\u001b[0m     \u001b[0;32mtry\u001b[0m\u001b[0;34m:\u001b[0m\u001b[0;34m\u001b[0m\u001b[0m\n\u001b[0;32m--> 538\u001b[0;31m         \u001b[0mdtype\u001b[0m \u001b[0;34m=\u001b[0m \u001b[0m_get_dtype\u001b[0m\u001b[0;34m(\u001b[0m\u001b[0marr_or_dtype\u001b[0m\u001b[0;34m)\u001b[0m\u001b[0;34m\u001b[0m\u001b[0m\n\u001b[0m\u001b[1;32m    539\u001b[0m         \u001b[0;32mreturn\u001b[0m \u001b[0mdtype\u001b[0m\u001b[0;34m.\u001b[0m\u001b[0mkind\u001b[0m \u001b[0;32min\u001b[0m \u001b[0;34m(\u001b[0m\u001b[0;34m'O'\u001b[0m\u001b[0;34m,\u001b[0m \u001b[0;34m'S'\u001b[0m\u001b[0;34m,\u001b[0m \u001b[0;34m'U'\u001b[0m\u001b[0;34m)\u001b[0m \u001b[0;32mand\u001b[0m \u001b[0;32mnot\u001b[0m \u001b[0mis_period_dtype\u001b[0m\u001b[0;34m(\u001b[0m\u001b[0mdtype\u001b[0m\u001b[0;34m)\u001b[0m\u001b[0;34m\u001b[0m\u001b[0m\n\u001b[1;32m    540\u001b[0m     \u001b[0;32mexcept\u001b[0m \u001b[0mTypeError\u001b[0m\u001b[0;34m:\u001b[0m\u001b[0;34m\u001b[0m\u001b[0m\n",
      "\u001b[0;31mKeyboardInterrupt\u001b[0m: "
     ]
    }
   ],
   "source": [
    "clean_data_median(train_data).head(20)"
   ]
  },
  {
   "cell_type": "code",
   "execution_count": 17,
   "metadata": {
    "collapsed": true
   },
   "outputs": [],
   "source": [
    "import random"
   ]
  },
  {
   "cell_type": "code",
   "execution_count": 47,
   "metadata": {
    "collapsed": true
   },
   "outputs": [],
   "source": [
    "class TSSampler(object):\n",
    "    \"\"\"\n",
    "    Time Series Random Sampler\n",
    "    \"\"\"\n",
    "    def __init__(self, data_frame):\n",
    "        self._df = data_frame\n",
    "    \n",
    "    def sample(self, lag=2, n=10):\n",
    "        num_columns = len(self._df.columns)\n",
    "        indices = random.sample(range(lag, num_columns), n)\n",
    "        return [tuple(idx-l for l in range(lag, -1, -1)) for idx in indices]"
   ]
  },
  {
   "cell_type": "code",
   "execution_count": 48,
   "metadata": {
    "collapsed": true
   },
   "outputs": [],
   "source": [
    "sampler = TSSampler(train_data)"
   ]
  },
  {
   "cell_type": "code",
   "execution_count": 52,
   "metadata": {},
   "outputs": [
    {
     "data": {
      "text/plain": [
       "[(537, 538, 539),\n",
       " (309, 310, 311),\n",
       " (471, 472, 473),\n",
       " (267, 268, 269),\n",
       " (474, 475, 476),\n",
       " (299, 300, 301),\n",
       " (169, 170, 171),\n",
       " (71, 72, 73),\n",
       " (470, 471, 472),\n",
       " (437, 438, 439),\n",
       " (4, 5, 6),\n",
       " (51, 52, 53),\n",
       " (113, 114, 115),\n",
       " (290, 291, 292),\n",
       " (201, 202, 203),\n",
       " (306, 307, 308),\n",
       " (343, 344, 345),\n",
       " (182, 183, 184),\n",
       " (506, 507, 508),\n",
       " (349, 350, 351)]"
      ]
     },
     "execution_count": 52,
     "metadata": {},
     "output_type": "execute_result"
    }
   ],
   "source": [
    "sampler.sample(n=20)"
   ]
  },
  {
   "cell_type": "markdown",
   "metadata": {},
   "source": [
    "------"
   ]
  },
  {
   "cell_type": "markdown",
   "metadata": {
    "collapsed": true
   },
   "source": [
    "## References\n",
    "\n",
    "- [Basic](https://chrisalbon.com/python/pandas_time_series_basics.html)"
   ]
  },
  {
   "cell_type": "code",
   "execution_count": null,
   "metadata": {
    "collapsed": true
   },
   "outputs": [],
   "source": []
  }
 ],
 "metadata": {
  "kernelspec": {
   "display_name": "Python 3",
   "language": "python",
   "name": "python3"
  },
  "language_info": {
   "codemirror_mode": {
    "name": "ipython",
    "version": 3
   },
   "file_extension": ".py",
   "mimetype": "text/x-python",
   "name": "python",
   "nbconvert_exporter": "python",
   "pygments_lexer": "ipython3",
   "version": "3.6.1"
  }
 },
 "nbformat": 4,
 "nbformat_minor": 2
}
